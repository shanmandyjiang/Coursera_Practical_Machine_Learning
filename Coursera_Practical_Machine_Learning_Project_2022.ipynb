{
 "cells": [
  {
   "cell_type": "markdown",
   "id": "a4c52b78",
   "metadata": {},
   "source": [
    "# Coursera - Practical Machine Learning"
   ]
  },
  {
   "cell_type": "markdown",
   "id": "b4cc8402",
   "metadata": {},
   "source": [
    "#### By Mandy Jiang  (04/04/2022) "
   ]
  },
  {
   "cell_type": "markdown",
   "id": "6029ff1b",
   "metadata": {},
   "source": [
    "## Background and Description"
   ]
  },
  {
   "cell_type": "markdown",
   "id": "bcde1b19",
   "metadata": {},
   "source": [
    "The goal of this project is to use data from accelerometers on the belt, forearm, arm, and dumbell of 6 participants, to predict the manner in which they did the exercise. They were asked to perform barbell lifts correctly and incorrectly in 5 different ways. Variable \"classe\" in the training set shows which way they did in exercise, in which Class A corresponds to the specified execution of the exercise, while the other 4 classes correspond to common mistakes. (The Weight Lifting Exercise Datasethttp://web.archive.org/web/20161224072740/http:/groupware.les.inf.puc-rio.br/har)"
   ]
  },
  {
   "cell_type": "code",
   "execution_count": 38,
   "id": "b0669758",
   "metadata": {},
   "outputs": [],
   "source": [
    "library(ggplot2)\n",
    "library(caret)\n",
    "library(lattice)\n",
    "library(e1071)\n",
    "library(rpart)\n",
    "library(kernlab)\n",
    "library(randomForest)\n",
    "library(gbm)"
   ]
  },
  {
   "cell_type": "markdown",
   "id": "97752622",
   "metadata": {},
   "source": [
    "## Data preprocessing"
   ]
  },
  {
   "cell_type": "markdown",
   "id": "2afbd10c",
   "metadata": {},
   "source": [
    "We are going to train and test the model on the training set only, and leave the testing set for final validation. Therefore, the data cleaning and preprocessin will be applied on training set only."
   ]
  },
  {
   "cell_type": "code",
   "execution_count": 13,
   "id": "cbc8b2ad",
   "metadata": {
    "scrolled": true
   },
   "outputs": [
    {
     "data": {
      "text/html": [
       "<ol class=list-inline>\n",
       "\t<li>19622</li>\n",
       "\t<li>160</li>\n",
       "</ol>\n"
      ],
      "text/latex": [
       "\\begin{enumerate*}\n",
       "\\item 19622\n",
       "\\item 160\n",
       "\\end{enumerate*}\n"
      ],
      "text/markdown": [
       "1. 19622\n",
       "2. 160\n",
       "\n",
       "\n"
      ],
      "text/plain": [
       "[1] 19622   160"
      ]
     },
     "metadata": {},
     "output_type": "display_data"
    },
    {
     "data": {
      "text/html": [
       "<ol class=list-inline>\n",
       "\t<li>20</li>\n",
       "\t<li>160</li>\n",
       "</ol>\n"
      ],
      "text/latex": [
       "\\begin{enumerate*}\n",
       "\\item 20\n",
       "\\item 160\n",
       "\\end{enumerate*}\n"
      ],
      "text/markdown": [
       "1. 20\n",
       "2. 160\n",
       "\n",
       "\n"
      ],
      "text/plain": [
       "[1]  20 160"
      ]
     },
     "metadata": {},
     "output_type": "display_data"
    }
   ],
   "source": [
    "train_file = 'https://d396qusza40orc.cloudfront.net/predmachlearn/pml-training.csv'\n",
    "test_file = 'https://d396qusza40orc.cloudfront.net/predmachlearn/pml-testing.csv'\n",
    "train = read.csv(train_file, sep=',', header=TRUE)\n",
    "dim(train)\n",
    "test = read.csv(test_file, sep=',', header=TRUE)\n",
    "dim(test)"
   ]
  },
  {
   "cell_type": "markdown",
   "id": "5b119ff3",
   "metadata": {},
   "source": [
    "We got 19622 observations and 160 variables in training dataset, while we got 20 observations and 160 variables in testing dataset. Next, we are going to remove variables with missing values and those not relevant to the prediction of classes in the training set."
   ]
  },
  {
   "cell_type": "code",
   "execution_count": 14,
   "id": "79729a86",
   "metadata": {
    "scrolled": true
   },
   "outputs": [
    {
     "data": {
      "text/html": [
       "<ol class=list-inline>\n",
       "\t<li>19622</li>\n",
       "\t<li>86</li>\n",
       "</ol>\n"
      ],
      "text/latex": [
       "\\begin{enumerate*}\n",
       "\\item 19622\n",
       "\\item 86\n",
       "\\end{enumerate*}\n"
      ],
      "text/markdown": [
       "1. 19622\n",
       "2. 86\n",
       "\n",
       "\n"
      ],
      "text/plain": [
       "[1] 19622    86"
      ]
     },
     "metadata": {},
     "output_type": "display_data"
    }
   ],
   "source": [
    "train = train[, colSums(is.na(train)) == 0]\n",
    "train = train[,-c(1:7)]\n",
    "dim(train)"
   ]
  },
  {
   "cell_type": "markdown",
   "id": "a9d8d25e",
   "metadata": {},
   "source": [
    "Then we are going to remove variables with almost zero variance across observations."
   ]
  },
  {
   "cell_type": "code",
   "execution_count": 15,
   "id": "9ff13302",
   "metadata": {
    "scrolled": false
   },
   "outputs": [
    {
     "data": {
      "text/html": [
       "<ol class=list-inline>\n",
       "\t<li>19622</li>\n",
       "\t<li>53</li>\n",
       "</ol>\n"
      ],
      "text/latex": [
       "\\begin{enumerate*}\n",
       "\\item 19622\n",
       "\\item 53\n",
       "\\end{enumerate*}\n"
      ],
      "text/markdown": [
       "1. 19622\n",
       "2. 53\n",
       "\n",
       "\n"
      ],
      "text/plain": [
       "[1] 19622    53"
      ]
     },
     "metadata": {},
     "output_type": "display_data"
    }
   ],
   "source": [
    "nvz = nearZeroVar(train)\n",
    "train = train[,-nvz]\n",
    "dim(train)"
   ]
  },
  {
   "cell_type": "markdown",
   "id": "7f97f9f7",
   "metadata": {},
   "source": [
    "## Data splitting"
   ]
  },
  {
   "cell_type": "code",
   "execution_count": 22,
   "id": "b8ba2645",
   "metadata": {},
   "outputs": [
    {
     "data": {
      "text/html": [
       "<table>\n",
       "<tbody>\n",
       "\t<tr><th scope=row>original dataset</th><td>19622</td><td>53   </td></tr>\n",
       "\t<tr><th scope=row>training set</th><td>13737</td><td>53   </td></tr>\n",
       "\t<tr><th scope=row>validation set</th><td> 5885</td><td>53   </td></tr>\n",
       "</tbody>\n",
       "</table>\n"
      ],
      "text/latex": [
       "\\begin{tabular}{r|ll}\n",
       "\toriginal dataset & 19622 & 53   \\\\\n",
       "\ttraining set & 13737 & 53   \\\\\n",
       "\tvalidation set &  5885 & 53   \\\\\n",
       "\\end{tabular}\n"
      ],
      "text/markdown": [
       "\n",
       "| original dataset | 19622 | 53    |\n",
       "| training set | 13737 | 53    |\n",
       "| validation set |  5885 | 53    |\n",
       "\n"
      ],
      "text/plain": [
       "                 [,1]  [,2]\n",
       "original dataset 19622 53  \n",
       "training set     13737 53  \n",
       "validation set    5885 53  "
      ]
     },
     "metadata": {},
     "output_type": "display_data"
    }
   ],
   "source": [
    "set.seed(1886)\n",
    "inTrain = createDataPartition(y=train$classe, p=0.7, list=FALSE)\n",
    "training = train[inTrain,]\n",
    "validation = train[-inTrain,]\n",
    "rbind(\"original dataset\" = dim(train),\"training set\" = dim(training), \"validation set\" = dim(validation))"
   ]
  },
  {
   "cell_type": "markdown",
   "id": "e48d7c76",
   "metadata": {},
   "source": [
    "## Prediction model setup"
   ]
  },
  {
   "cell_type": "markdown",
   "id": "de0da246",
   "metadata": {},
   "source": [
    "We will use decision trees, random forests, Gradient Boosted Trees, and Support Vector Machine to predict the outcomes. We will also select the best performance model and look at the predictions on the testing dataset."
   ]
  },
  {
   "cell_type": "markdown",
   "id": "1eca2210",
   "metadata": {},
   "source": [
    "Set up control for training with 5-fold cross validation."
   ]
  },
  {
   "cell_type": "code",
   "execution_count": 23,
   "id": "26023482",
   "metadata": {},
   "outputs": [],
   "source": [
    "control = trainControl(method=\"cv\", number=5, verboseIter=FALSE)"
   ]
  },
  {
   "cell_type": "markdown",
   "id": "3d7ac4a5",
   "metadata": {},
   "source": [
    "### Decision tree"
   ]
  },
  {
   "cell_type": "code",
   "execution_count": 30,
   "id": "7608b81a",
   "metadata": {},
   "outputs": [
    {
     "data": {
      "text/plain": [
       "Confusion Matrix and Statistics\n",
       "\n",
       "          Reference\n",
       "Prediction    A    B    C    D    E\n",
       "         A 1492  494  493  437  145\n",
       "         B   26  361   29  177  144\n",
       "         C  123  284  504  350  264\n",
       "         D    0    0    0    0    0\n",
       "         E   33    0    0    0  529\n",
       "\n",
       "Overall Statistics\n",
       "                                          \n",
       "               Accuracy : 0.4904          \n",
       "                 95% CI : (0.4775, 0.5033)\n",
       "    No Information Rate : 0.2845          \n",
       "    P-Value [Acc > NIR] : < 2.2e-16       \n",
       "                                          \n",
       "                  Kappa : 0.3339          \n",
       "                                          \n",
       " Mcnemar's Test P-Value : NA              \n",
       "\n",
       "Statistics by Class:\n",
       "\n",
       "                     Class: A Class: B Class: C Class: D Class: E\n",
       "Sensitivity            0.8913  0.31694  0.49123   0.0000  0.48891\n",
       "Specificity            0.6274  0.92078  0.78987   1.0000  0.99313\n",
       "Pos Pred Value         0.4874  0.48982  0.33049      NaN  0.94128\n",
       "Neg Pred Value         0.9356  0.84887  0.88028   0.8362  0.89611\n",
       "Prevalence             0.2845  0.19354  0.17434   0.1638  0.18386\n",
       "Detection Rate         0.2535  0.06134  0.08564   0.0000  0.08989\n",
       "Detection Prevalence   0.5201  0.12523  0.25913   0.0000  0.09550\n",
       "Balanced Accuracy      0.7593  0.61886  0.64055   0.5000  0.74102"
      ]
     },
     "metadata": {},
     "output_type": "display_data"
    }
   ],
   "source": [
    "modFit1 = train(classe~., data=training, method=\"rpart\", trControl = control)\n",
    "pred1 = predict(modFit1, validation)\n",
    "cm1 = confusionMatrix(pred1, factor(validation$classe))\n",
    "cm1"
   ]
  },
  {
   "cell_type": "markdown",
   "id": "871c0106",
   "metadata": {},
   "source": [
    "### Random Forests"
   ]
  },
  {
   "cell_type": "code",
   "execution_count": 31,
   "id": "9d791bcb",
   "metadata": {},
   "outputs": [
    {
     "data": {
      "text/plain": [
       "Confusion Matrix and Statistics\n",
       "\n",
       "          Reference\n",
       "Prediction    A    B    C    D    E\n",
       "         A 1671    9    0    0    0\n",
       "         B    2 1129    4    0    1\n",
       "         C    0    1 1019    8    0\n",
       "         D    0    0    3  956    3\n",
       "         E    1    0    0    0 1078\n",
       "\n",
       "Overall Statistics\n",
       "                                          \n",
       "               Accuracy : 0.9946          \n",
       "                 95% CI : (0.9923, 0.9963)\n",
       "    No Information Rate : 0.2845          \n",
       "    P-Value [Acc > NIR] : < 2.2e-16       \n",
       "                                          \n",
       "                  Kappa : 0.9931          \n",
       "                                          \n",
       " Mcnemar's Test P-Value : NA              \n",
       "\n",
       "Statistics by Class:\n",
       "\n",
       "                     Class: A Class: B Class: C Class: D Class: E\n",
       "Sensitivity            0.9982   0.9912   0.9932   0.9917   0.9963\n",
       "Specificity            0.9979   0.9985   0.9981   0.9988   0.9998\n",
       "Pos Pred Value         0.9946   0.9938   0.9912   0.9938   0.9991\n",
       "Neg Pred Value         0.9993   0.9979   0.9986   0.9984   0.9992\n",
       "Prevalence             0.2845   0.1935   0.1743   0.1638   0.1839\n",
       "Detection Rate         0.2839   0.1918   0.1732   0.1624   0.1832\n",
       "Detection Prevalence   0.2855   0.1930   0.1747   0.1635   0.1833\n",
       "Balanced Accuracy      0.9980   0.9949   0.9957   0.9952   0.9980"
      ]
     },
     "metadata": {},
     "output_type": "display_data"
    }
   ],
   "source": [
    "modFit2 = train(classe~., data=training, method=\"rf\", trControl = control)\n",
    "pred2 = predict(modFit2, validation)\n",
    "cm2 = confusionMatrix(pred2, factor(validation$classe))\n",
    "cm2"
   ]
  },
  {
   "cell_type": "markdown",
   "id": "e5d67f1c",
   "metadata": {},
   "source": [
    "### Gradient Boosted Trees"
   ]
  },
  {
   "cell_type": "code",
   "execution_count": 35,
   "id": "c1ee58e9",
   "metadata": {
    "scrolled": true
   },
   "outputs": [
    {
     "name": "stdout",
     "output_type": "stream",
     "text": [
      "Iter   TrainDeviance   ValidDeviance   StepSize   Improve\n",
      "     1        1.6094             nan     0.1000    0.1263\n",
      "     2        1.5253             nan     0.1000    0.0890\n",
      "     3        1.4670             nan     0.1000    0.0674\n",
      "     4        1.4223             nan     0.1000    0.0547\n",
      "     5        1.3865             nan     0.1000    0.0490\n",
      "     6        1.3545             nan     0.1000    0.0445\n",
      "     7        1.3263             nan     0.1000    0.0376\n",
      "     8        1.3030             nan     0.1000    0.0324\n",
      "     9        1.2818             nan     0.1000    0.0361\n",
      "    10        1.2583             nan     0.1000    0.0269\n",
      "    20        1.1047             nan     0.1000    0.0170\n",
      "    40        0.9324             nan     0.1000    0.0080\n",
      "    60        0.8260             nan     0.1000    0.0070\n",
      "    80        0.7464             nan     0.1000    0.0034\n",
      "   100        0.6847             nan     0.1000    0.0033\n",
      "   120        0.6327             nan     0.1000    0.0029\n",
      "   140        0.5881             nan     0.1000    0.0029\n",
      "   150        0.5684             nan     0.1000    0.0022\n",
      "\n",
      "Iter   TrainDeviance   ValidDeviance   StepSize   Improve\n",
      "     1        1.6094             nan     0.1000    0.1844\n",
      "     2        1.4906             nan     0.1000    0.1284\n",
      "     3        1.4077             nan     0.1000    0.1009\n",
      "     4        1.3424             nan     0.1000    0.0840\n",
      "     5        1.2888             nan     0.1000    0.0732\n",
      "     6        1.2422             nan     0.1000    0.0717\n",
      "     7        1.1979             nan     0.1000    0.0582\n",
      "     8        1.1604             nan     0.1000    0.0494\n",
      "     9        1.1287             nan     0.1000    0.0516\n",
      "    10        1.0959             nan     0.1000    0.0431\n",
      "    20        0.8944             nan     0.1000    0.0190\n",
      "    40        0.6803             nan     0.1000    0.0092\n",
      "    60        0.5537             nan     0.1000    0.0084\n",
      "    80        0.4653             nan     0.1000    0.0051\n",
      "   100        0.3984             nan     0.1000    0.0032\n",
      "   120        0.3473             nan     0.1000    0.0036\n",
      "   140        0.3050             nan     0.1000    0.0026\n",
      "   150        0.2888             nan     0.1000    0.0019\n",
      "\n",
      "Iter   TrainDeviance   ValidDeviance   StepSize   Improve\n",
      "     1        1.6094             nan     0.1000    0.2312\n",
      "     2        1.4626             nan     0.1000    0.1615\n",
      "     3        1.3611             nan     0.1000    0.1242\n",
      "     4        1.2813             nan     0.1000    0.0981\n",
      "     5        1.2187             nan     0.1000    0.0965\n",
      "     6        1.1586             nan     0.1000    0.0799\n",
      "     7        1.1079             nan     0.1000    0.0697\n",
      "     8        1.0651             nan     0.1000    0.0569\n",
      "     9        1.0288             nan     0.1000    0.0708\n",
      "    10        0.9849             nan     0.1000    0.0571\n",
      "    20        0.7512             nan     0.1000    0.0265\n",
      "    40        0.5294             nan     0.1000    0.0114\n",
      "    60        0.4062             nan     0.1000    0.0081\n",
      "    80        0.3225             nan     0.1000    0.0057\n",
      "   100        0.2640             nan     0.1000    0.0036\n",
      "   120        0.2210             nan     0.1000    0.0020\n",
      "   140        0.1872             nan     0.1000    0.0018\n",
      "   150        0.1740             nan     0.1000    0.0012\n",
      "\n",
      "Iter   TrainDeviance   ValidDeviance   StepSize   Improve\n",
      "     1        1.6094             nan     0.1000    0.1329\n",
      "     2        1.5236             nan     0.1000    0.0872\n",
      "     3        1.4653             nan     0.1000    0.0661\n",
      "     4        1.4208             nan     0.1000    0.0521\n",
      "     5        1.3857             nan     0.1000    0.0515\n",
      "     6        1.3524             nan     0.1000    0.0380\n",
      "     7        1.3278             nan     0.1000    0.0399\n",
      "     8        1.3025             nan     0.1000    0.0338\n",
      "     9        1.2804             nan     0.1000    0.0330\n",
      "    10        1.2585             nan     0.1000    0.0301\n",
      "    20        1.1056             nan     0.1000    0.0176\n",
      "    40        0.9317             nan     0.1000    0.0081\n",
      "    60        0.8248             nan     0.1000    0.0069\n",
      "    80        0.7447             nan     0.1000    0.0039\n",
      "   100        0.6799             nan     0.1000    0.0028\n",
      "   120        0.6294             nan     0.1000    0.0032\n",
      "   140        0.5839             nan     0.1000    0.0029\n",
      "   150        0.5649             nan     0.1000    0.0025\n",
      "\n",
      "Iter   TrainDeviance   ValidDeviance   StepSize   Improve\n",
      "     1        1.6094             nan     0.1000    0.1851\n",
      "     2        1.4895             nan     0.1000    0.1346\n",
      "     3        1.4046             nan     0.1000    0.0996\n",
      "     4        1.3403             nan     0.1000    0.0842\n",
      "     5        1.2858             nan     0.1000    0.0757\n",
      "     6        1.2365             nan     0.1000    0.0647\n",
      "     7        1.1949             nan     0.1000    0.0605\n",
      "     8        1.1562             nan     0.1000    0.0519\n",
      "     9        1.1224             nan     0.1000    0.0447\n",
      "    10        1.0937             nan     0.1000    0.0399\n",
      "    20        0.8921             nan     0.1000    0.0228\n",
      "    40        0.6816             nan     0.1000    0.0137\n",
      "    60        0.5545             nan     0.1000    0.0076\n",
      "    80        0.4641             nan     0.1000    0.0025\n",
      "   100        0.3979             nan     0.1000    0.0037\n",
      "   120        0.3469             nan     0.1000    0.0024\n",
      "   140        0.3059             nan     0.1000    0.0021\n",
      "   150        0.2886             nan     0.1000    0.0022\n",
      "\n",
      "Iter   TrainDeviance   ValidDeviance   StepSize   Improve\n",
      "     1        1.6094             nan     0.1000    0.2278\n",
      "     2        1.4630             nan     0.1000    0.1608\n",
      "     3        1.3604             nan     0.1000    0.1223\n",
      "     4        1.2827             nan     0.1000    0.1065\n",
      "     5        1.2153             nan     0.1000    0.0900\n",
      "     6        1.1597             nan     0.1000    0.0800\n",
      "     7        1.1096             nan     0.1000    0.0662\n",
      "     8        1.0673             nan     0.1000    0.0687\n",
      "     9        1.0242             nan     0.1000    0.0586\n",
      "    10        0.9852             nan     0.1000    0.0494\n",
      "    20        0.7546             nan     0.1000    0.0209\n",
      "    40        0.5258             nan     0.1000    0.0107\n",
      "    60        0.4043             nan     0.1000    0.0066\n",
      "    80        0.3238             nan     0.1000    0.0034\n",
      "   100        0.2662             nan     0.1000    0.0025\n",
      "   120        0.2240             nan     0.1000    0.0028\n",
      "   140        0.1888             nan     0.1000    0.0013\n",
      "   150        0.1741             nan     0.1000    0.0012\n",
      "\n",
      "Iter   TrainDeviance   ValidDeviance   StepSize   Improve\n",
      "     1        1.6094             nan     0.1000    0.1282\n",
      "     2        1.5236             nan     0.1000    0.0846\n",
      "     3        1.4663             nan     0.1000    0.0689\n",
      "     4        1.4214             nan     0.1000    0.0539\n",
      "     5        1.3862             nan     0.1000    0.0495\n",
      "     6        1.3538             nan     0.1000    0.0366\n",
      "     7        1.3290             nan     0.1000    0.0405\n",
      "     8        1.3032             nan     0.1000    0.0343\n",
      "     9        1.2815             nan     0.1000    0.0309\n",
      "    10        1.2607             nan     0.1000    0.0297\n",
      "    20        1.1071             nan     0.1000    0.0166\n",
      "    40        0.9348             nan     0.1000    0.0087\n",
      "    60        0.8270             nan     0.1000    0.0062\n",
      "    80        0.7445             nan     0.1000    0.0062\n",
      "   100        0.6810             nan     0.1000    0.0033\n",
      "   120        0.6300             nan     0.1000    0.0031\n",
      "   140        0.5851             nan     0.1000    0.0023\n",
      "   150        0.5642             nan     0.1000    0.0015\n",
      "\n",
      "Iter   TrainDeviance   ValidDeviance   StepSize   Improve\n",
      "     1        1.6094             nan     0.1000    0.1861\n",
      "     2        1.4895             nan     0.1000    0.1273\n",
      "     3        1.4054             nan     0.1000    0.1043\n",
      "     4        1.3393             nan     0.1000    0.0817\n",
      "     5        1.2864             nan     0.1000    0.0708\n",
      "     6        1.2404             nan     0.1000    0.0716\n",
      "     7        1.1958             nan     0.1000    0.0599\n",
      "     8        1.1579             nan     0.1000    0.0473\n",
      "     9        1.1270             nan     0.1000    0.0480\n",
      "    10        1.0969             nan     0.1000    0.0406\n",
      "    20        0.8892             nan     0.1000    0.0214\n",
      "    40        0.6792             nan     0.1000    0.0080\n",
      "    60        0.5534             nan     0.1000    0.0070\n",
      "    80        0.4647             nan     0.1000    0.0046\n",
      "   100        0.3985             nan     0.1000    0.0025\n",
      "   120        0.3456             nan     0.1000    0.0038\n",
      "   140        0.3033             nan     0.1000    0.0020\n",
      "   150        0.2857             nan     0.1000    0.0029\n",
      "\n",
      "Iter   TrainDeviance   ValidDeviance   StepSize   Improve\n",
      "     1        1.6094             nan     0.1000    0.2257\n",
      "     2        1.4643             nan     0.1000    0.1669\n",
      "     3        1.3615             nan     0.1000    0.1208\n",
      "     4        1.2837             nan     0.1000    0.0975\n",
      "     5        1.2209             nan     0.1000    0.0942\n",
      "     6        1.1616             nan     0.1000    0.0790\n",
      "     7        1.1103             nan     0.1000    0.0750\n",
      "     8        1.0643             nan     0.1000    0.0624\n",
      "     9        1.0259             nan     0.1000    0.0597\n",
      "    10        0.9878             nan     0.1000    0.0476\n",
      "    20        0.7564             nan     0.1000    0.0238\n",
      "    40        0.5313             nan     0.1000    0.0083\n",
      "    60        0.4060             nan     0.1000    0.0095\n",
      "    80        0.3254             nan     0.1000    0.0031\n",
      "   100        0.2631             nan     0.1000    0.0030\n",
      "   120        0.2193             nan     0.1000    0.0027\n",
      "   140        0.1854             nan     0.1000    0.0015\n",
      "   150        0.1716             nan     0.1000    0.0012\n",
      "\n",
      "Iter   TrainDeviance   ValidDeviance   StepSize   Improve\n",
      "     1        1.6094             nan     0.1000    0.1297\n",
      "     2        1.5238             nan     0.1000    0.0866\n",
      "     3        1.4655             nan     0.1000    0.0655\n",
      "     4        1.4213             nan     0.1000    0.0545\n",
      "     5        1.3854             nan     0.1000    0.0507\n",
      "     6        1.3534             nan     0.1000    0.0396\n",
      "     7        1.3276             nan     0.1000    0.0394\n",
      "     8        1.3023             nan     0.1000    0.0345\n",
      "     9        1.2799             nan     0.1000    0.0328\n",
      "    10        1.2582             nan     0.1000    0.0303\n",
      "    20        1.1039             nan     0.1000    0.0162\n",
      "    40        0.9320             nan     0.1000    0.0090\n",
      "    60        0.8224             nan     0.1000    0.0065\n",
      "    80        0.7427             nan     0.1000    0.0055\n",
      "   100        0.6798             nan     0.1000    0.0032\n",
      "   120        0.6286             nan     0.1000    0.0028\n",
      "   140        0.5841             nan     0.1000    0.0017\n",
      "   150        0.5658             nan     0.1000    0.0030\n",
      "\n",
      "Iter   TrainDeviance   ValidDeviance   StepSize   Improve\n",
      "     1        1.6094             nan     0.1000    0.1878\n",
      "     2        1.4877             nan     0.1000    0.1240\n",
      "     3        1.4064             nan     0.1000    0.1098\n",
      "     4        1.3369             nan     0.1000    0.0825\n",
      "     5        1.2837             nan     0.1000    0.0722\n",
      "     6        1.2376             nan     0.1000    0.0717\n",
      "     7        1.1927             nan     0.1000    0.0639\n",
      "     8        1.1531             nan     0.1000    0.0567\n",
      "     9        1.1176             nan     0.1000    0.0424\n",
      "    10        1.0899             nan     0.1000    0.0383\n",
      "    20        0.8897             nan     0.1000    0.0263\n",
      "    40        0.6716             nan     0.1000    0.0115\n",
      "    60        0.5471             nan     0.1000    0.0077\n",
      "    80        0.4598             nan     0.1000    0.0065\n",
      "   100        0.3955             nan     0.1000    0.0050\n",
      "   120        0.3459             nan     0.1000    0.0024\n",
      "   140        0.3050             nan     0.1000    0.0022\n",
      "   150        0.2849             nan     0.1000    0.0017\n",
      "\n",
      "Iter   TrainDeviance   ValidDeviance   StepSize   Improve\n",
      "     1        1.6094             nan     0.1000    0.2378\n",
      "     2        1.4584             nan     0.1000    0.1581\n",
      "     3        1.3583             nan     0.1000    0.1288\n",
      "     4        1.2776             nan     0.1000    0.1028\n",
      "     5        1.2122             nan     0.1000    0.0897\n",
      "     6        1.1559             nan     0.1000    0.0698\n",
      "     7        1.1109             nan     0.1000    0.0824\n",
      "     8        1.0603             nan     0.1000    0.0648\n",
      "     9        1.0192             nan     0.1000    0.0513\n",
      "    10        0.9852             nan     0.1000    0.0552\n",
      "    20        0.7476             nan     0.1000    0.0235\n",
      "    40        0.5259             nan     0.1000    0.0120\n",
      "    60        0.4037             nan     0.1000    0.0079\n",
      "    80        0.3226             nan     0.1000    0.0030\n",
      "   100        0.2658             nan     0.1000    0.0046\n",
      "   120        0.2214             nan     0.1000    0.0012\n",
      "   140        0.1891             nan     0.1000    0.0008\n",
      "   150        0.1761             nan     0.1000    0.0016\n",
      "\n",
      "Iter   TrainDeviance   ValidDeviance   StepSize   Improve\n",
      "     1        1.6094             nan     0.1000    0.1274\n",
      "     2        1.5238             nan     0.1000    0.0903\n",
      "     3        1.4649             nan     0.1000    0.0631\n",
      "     4        1.4213             nan     0.1000    0.0525\n",
      "     5        1.3855             nan     0.1000    0.0509\n",
      "     6        1.3526             nan     0.1000    0.0401\n",
      "     7        1.3257             nan     0.1000    0.0370\n",
      "     8        1.3021             nan     0.1000    0.0325\n",
      "     9        1.2816             nan     0.1000    0.0323\n",
      "    10        1.2592             nan     0.1000    0.0310\n",
      "    20        1.1044             nan     0.1000    0.0185\n",
      "    40        0.9327             nan     0.1000    0.0073\n",
      "    60        0.8243             nan     0.1000    0.0090\n",
      "    80        0.7431             nan     0.1000    0.0040\n",
      "   100        0.6799             nan     0.1000    0.0025\n",
      "   120        0.6277             nan     0.1000    0.0027\n",
      "   140        0.5834             nan     0.1000    0.0029\n",
      "   150        0.5652             nan     0.1000    0.0016\n",
      "\n",
      "Iter   TrainDeviance   ValidDeviance   StepSize   Improve\n",
      "     1        1.6094             nan     0.1000    0.1854\n",
      "     2        1.4884             nan     0.1000    0.1295\n",
      "     3        1.4056             nan     0.1000    0.1014\n",
      "     4        1.3411             nan     0.1000    0.0779\n",
      "     5        1.2901             nan     0.1000    0.0725\n",
      "     6        1.2433             nan     0.1000    0.0683\n",
      "     7        1.1995             nan     0.1000    0.0585\n",
      "     8        1.1620             nan     0.1000    0.0592\n",
      "     9        1.1254             nan     0.1000    0.0511\n",
      "    10        1.0931             nan     0.1000    0.0416\n",
      "    20        0.8930             nan     0.1000    0.0257\n",
      "    40        0.6848             nan     0.1000    0.0135\n",
      "    60        0.5544             nan     0.1000    0.0048\n",
      "    80        0.4612             nan     0.1000    0.0040\n",
      "   100        0.3975             nan     0.1000    0.0038\n",
      "   120        0.3433             nan     0.1000    0.0028\n",
      "   140        0.3048             nan     0.1000    0.0040\n",
      "   150        0.2860             nan     0.1000    0.0011\n",
      "\n",
      "Iter   TrainDeviance   ValidDeviance   StepSize   Improve\n",
      "     1        1.6094             nan     0.1000    0.2380\n",
      "     2        1.4577             nan     0.1000    0.1599\n",
      "     3        1.3546             nan     0.1000    0.1309\n",
      "     4        1.2749             nan     0.1000    0.0988\n",
      "     5        1.2130             nan     0.1000    0.0926\n",
      "     6        1.1539             nan     0.1000    0.0741\n",
      "     7        1.1073             nan     0.1000    0.0693\n",
      "     8        1.0636             nan     0.1000    0.0612\n",
      "     9        1.0238             nan     0.1000    0.0635\n",
      "    10        0.9841             nan     0.1000    0.0553\n",
      "    20        0.7563             nan     0.1000    0.0293\n",
      "    40        0.5279             nan     0.1000    0.0109\n",
      "    60        0.4045             nan     0.1000    0.0080\n",
      "    80        0.3179             nan     0.1000    0.0022\n",
      "   100        0.2636             nan     0.1000    0.0032\n",
      "   120        0.2198             nan     0.1000    0.0023\n",
      "   140        0.1859             nan     0.1000    0.0017\n",
      "   150        0.1737             nan     0.1000    0.0009\n",
      "\n",
      "Iter   TrainDeviance   ValidDeviance   StepSize   Improve\n",
      "     1        1.6094             nan     0.1000    0.2264\n",
      "     2        1.4645             nan     0.1000    0.1608\n",
      "     3        1.3622             nan     0.1000    0.1233\n",
      "     4        1.2841             nan     0.1000    0.1032\n",
      "     5        1.2187             nan     0.1000    0.0954\n",
      "     6        1.1601             nan     0.1000    0.0812\n",
      "     7        1.1099             nan     0.1000    0.0744\n",
      "     8        1.0618             nan     0.1000    0.0587\n",
      "     9        1.0251             nan     0.1000    0.0563\n",
      "    10        0.9898             nan     0.1000    0.0547\n",
      "    20        0.7591             nan     0.1000    0.0287\n",
      "    40        0.5298             nan     0.1000    0.0139\n",
      "    60        0.4041             nan     0.1000    0.0076\n",
      "    80        0.3219             nan     0.1000    0.0042\n",
      "   100        0.2664             nan     0.1000    0.0027\n",
      "   120        0.2258             nan     0.1000    0.0036\n",
      "   140        0.1914             nan     0.1000    0.0010\n",
      "   150        0.1772             nan     0.1000    0.0024\n",
      "\n"
     ]
    },
    {
     "data": {
      "text/plain": [
       "Confusion Matrix and Statistics\n",
       "\n",
       "          Reference\n",
       "Prediction    A    B    C    D    E\n",
       "         A 1641   40    0    1    2\n",
       "         B   27 1070   22    3   12\n",
       "         C    3   26  985   31    7\n",
       "         D    2    1   18  924   13\n",
       "         E    1    2    1    5 1048\n",
       "\n",
       "Overall Statistics\n",
       "                                         \n",
       "               Accuracy : 0.9631         \n",
       "                 95% CI : (0.958, 0.9678)\n",
       "    No Information Rate : 0.2845         \n",
       "    P-Value [Acc > NIR] : < 2.2e-16      \n",
       "                                         \n",
       "                  Kappa : 0.9534         \n",
       "                                         \n",
       " Mcnemar's Test P-Value : 0.003518       \n",
       "\n",
       "Statistics by Class:\n",
       "\n",
       "                     Class: A Class: B Class: C Class: D Class: E\n",
       "Sensitivity            0.9803   0.9394   0.9600   0.9585   0.9686\n",
       "Specificity            0.9898   0.9865   0.9862   0.9931   0.9981\n",
       "Pos Pred Value         0.9745   0.9436   0.9363   0.9645   0.9915\n",
       "Neg Pred Value         0.9921   0.9855   0.9915   0.9919   0.9930\n",
       "Prevalence             0.2845   0.1935   0.1743   0.1638   0.1839\n",
       "Detection Rate         0.2788   0.1818   0.1674   0.1570   0.1781\n",
       "Detection Prevalence   0.2862   0.1927   0.1788   0.1628   0.1796\n",
       "Balanced Accuracy      0.9850   0.9630   0.9731   0.9758   0.9834"
      ]
     },
     "metadata": {},
     "output_type": "display_data"
    }
   ],
   "source": [
    "modFit3 = train(classe~., data=training, method=\"gbm\", trControl = control)\n",
    "pred3 = predict(modFit3, validation)\n",
    "cm3 = confusionMatrix(pred3, factor(validation$classe))\n",
    "cm3"
   ]
  },
  {
   "cell_type": "markdown",
   "id": "6fa63e8b",
   "metadata": {},
   "source": [
    "### Support Vector Machine"
   ]
  },
  {
   "cell_type": "code",
   "execution_count": 39,
   "id": "41082a85",
   "metadata": {
    "scrolled": false
   },
   "outputs": [
    {
     "data": {
      "text/plain": [
       "Confusion Matrix and Statistics\n",
       "\n",
       "          Reference\n",
       "Prediction    A    B    C    D    E\n",
       "         A 1534  163   91   64   60\n",
       "         B   35  803   84   40  125\n",
       "         C   41   66  793  113   61\n",
       "         D   52   21   25  695   61\n",
       "         E   12   86   33   52  775\n",
       "\n",
       "Overall Statistics\n",
       "                                          \n",
       "               Accuracy : 0.7816          \n",
       "                 95% CI : (0.7709, 0.7921)\n",
       "    No Information Rate : 0.2845          \n",
       "    P-Value [Acc > NIR] : < 2.2e-16       \n",
       "                                          \n",
       "                  Kappa : 0.7223          \n",
       "                                          \n",
       " Mcnemar's Test P-Value : < 2.2e-16       \n",
       "\n",
       "Statistics by Class:\n",
       "\n",
       "                     Class: A Class: B Class: C Class: D Class: E\n",
       "Sensitivity            0.9164   0.7050   0.7729   0.7210   0.7163\n",
       "Specificity            0.9102   0.9402   0.9422   0.9677   0.9619\n",
       "Pos Pred Value         0.8023   0.7387   0.7384   0.8138   0.8090\n",
       "Neg Pred Value         0.9648   0.9300   0.9516   0.9465   0.9377\n",
       "Prevalence             0.2845   0.1935   0.1743   0.1638   0.1839\n",
       "Detection Rate         0.2607   0.1364   0.1347   0.1181   0.1317\n",
       "Detection Prevalence   0.3249   0.1847   0.1825   0.1451   0.1628\n",
       "Balanced Accuracy      0.9133   0.8226   0.8575   0.8443   0.8391"
      ]
     },
     "metadata": {},
     "output_type": "display_data"
    }
   ],
   "source": [
    "modFit4 = train(classe~., data=training, method=\"svmLinear\", trControl = control)\n",
    "pred4 = predict(modFit4, validation)\n",
    "cm4 = confusionMatrix(pred4, factor(validation$classe))\n",
    "cm4"
   ]
  },
  {
   "cell_type": "markdown",
   "id": "e1051406",
   "metadata": {},
   "source": [
    "## Model evaluation"
   ]
  },
  {
   "cell_type": "code",
   "execution_count": 52,
   "id": "3ceba213",
   "metadata": {},
   "outputs": [
    {
     "name": "stdout",
     "output_type": "stream",
     "text": [
      "                   Model  Accuracy\n",
      "1          Decision Tree 0.4903993\n",
      "2         Random Forests 0.9945624\n",
      "3 Gradient Boosted Trees 0.9631266\n",
      "4 Support Vector Machine 0.7816483\n"
     ]
    }
   ],
   "source": [
    "AccuracyResults = data.frame(Model = c('Decision Tree','Random Forests','Gradient Boosted Trees',\n",
    "                                        'Support Vector Machine'),\n",
    "                              Accuracy = rbind(cm1$overall[1],cm2$overall[1],cm3$overall[1],cm4$overall[1])\n",
    "                             )\n",
    "print(AccuracyResults)"
   ]
  },
  {
   "cell_type": "markdown",
   "id": "328e6cf8",
   "metadata": {},
   "source": [
    "The best model is the Random Forest model, with 0.9945624 accuracy. "
   ]
  },
  {
   "cell_type": "markdown",
   "id": "0a4919bc",
   "metadata": {},
   "source": [
    "## Prediction on test set"
   ]
  },
  {
   "cell_type": "code",
   "execution_count": 54,
   "id": "097d07a1",
   "metadata": {},
   "outputs": [
    {
     "name": "stdout",
     "output_type": "stream",
     "text": [
      "   problem_id predicted\n",
      "1           1         B\n",
      "2           2         A\n",
      "3           3         B\n",
      "4           4         A\n",
      "5           5         A\n",
      "6           6         E\n",
      "7           7         D\n",
      "8           8         B\n",
      "9           9         A\n",
      "10         10         A\n",
      "11         11         B\n",
      "12         12         C\n",
      "13         13         B\n",
      "14         14         A\n",
      "15         15         E\n",
      "16         16         E\n",
      "17         17         A\n",
      "18         18         B\n",
      "19         19         B\n",
      "20         20         B\n"
     ]
    }
   ],
   "source": [
    "pred = predict(modFit2, newdata = test)\n",
    "ValidationPredictionResults <- data.frame(problem_id=test$problem_id, predicted=pred)\n",
    "print(ValidationPredictionResults)"
   ]
  }
 ],
 "metadata": {
  "kernelspec": {
   "display_name": "R",
   "language": "R",
   "name": "ir"
  },
  "language_info": {
   "codemirror_mode": "r",
   "file_extension": ".r",
   "mimetype": "text/x-r-source",
   "name": "R",
   "pygments_lexer": "r",
   "version": "3.6.1"
  }
 },
 "nbformat": 4,
 "nbformat_minor": 5
}
